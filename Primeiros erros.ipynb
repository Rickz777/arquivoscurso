{
 "cells": [
  {
   "cell_type": "code",
   "execution_count": null,
   "id": "4059ad81-06aa-4773-a717-5e921d44bddd",
   "metadata": {
    "tags": []
   },
   "outputs": [],
   "source": [
    "print(\"Olá, Mundo\")"
   ]
  },
  {
   "cell_type": "code",
   "execution_count": 8,
   "id": "3db80396-359c-4092-9a9c-f1b174261d59",
   "metadata": {
    "tags": []
   },
   "outputs": [
    {
     "name": "stdout",
     "output_type": "stream",
     "text": [
      "Meu nome é Henrique tenho 28 anos\n"
     ]
    }
   ],
   "source": [
    "name = \"Henrique\"\n",
    "idade = \"28 anos\"\n",
    "print(\"Meu nome é\", name ,\"tenho\", idade)"
   ]
  },
  {
   "cell_type": "code",
   "execution_count": 10,
   "id": "f66a44ca-448d-489c-a04c-ef47d2c3f6a3",
   "metadata": {
    "tags": []
   },
   "outputs": [
    {
     "name": "stdout",
     "output_type": "stream",
     "text": [
      "Minha idade é 28\n"
     ]
    }
   ],
   "source": [
    "name = \"Henrique\"\n",
    "idade = \"28\"\n",
    "print(\"Minha idade é\" , str(idade))"
   ]
  },
  {
   "cell_type": "code",
   "execution_count": 33,
   "id": "0d489189-e392-4d9c-9002-3a09bd8b9b91",
   "metadata": {
    "tags": []
   },
   "outputs": [
    {
     "name": "stdout",
     "output_type": "stream",
     "text": [
      "Nome Henrique.\n",
      "Idade 28 anos.\n"
     ]
    }
   ],
   "source": [
    "name = \"Henrique\"\n",
    "anonasc = 1995\n",
    "anoatual = 2023\n",
    "print(\"Nome\" , name+\".\")\n",
    "print(\"Idade\", anoatual - anonasc , \"anos\"+\".\")"
   ]
  },
  {
   "cell_type": "code",
   "execution_count": 3,
   "id": "74c74bff-310c-4e0a-923a-32b0623509f0",
   "metadata": {},
   "outputs": [
    {
     "name": "stdout",
     "output_type": "stream",
     "text": [
      "num = 10\n"
     ]
    }
   ],
   "source": [
    "num = 10\n",
    "print('num =', num)"
   ]
  },
  {
   "cell_type": "code",
   "execution_count": 18,
   "id": "41a6530d-ab12-4a47-bfcc-ad319e88a691",
   "metadata": {
    "tags": []
   },
   "outputs": [
    {
     "name": "stdout",
     "output_type": "stream",
     "text": [
      "1 + 2 + 3 + 4 + 5 + 6 + 7 + 8 + 9 + 10\n"
     ]
    }
   ],
   "source": [
    "num = ('1 + 2 + 3 + \\\n",
    "4 + 5 + 6 + \\\n",
    "7 + 8 + 9 + 10')\n",
    "print(num)"
   ]
  },
  {
   "cell_type": "code",
   "execution_count": 27,
   "id": "955b0762-7bbd-4ddc-b344-2ab43a33c2be",
   "metadata": {
    "tags": []
   },
   "outputs": [
    {
     "name": "stdout",
     "output_type": "stream",
     "text": [
      "Henrique , 28 , brasileiro\n"
     ]
    }
   ],
   "source": [
    "#Codigo by Foot Cloth\n",
    "nome = \"Henrique\"\n",
    "idade = 28\n",
    "#idade = 30\n",
    "nacionalidade = \"brasileiro\"\n",
    "print(nome , \",\" , idade , \",\" , nacionalidade)"
   ]
  },
  {
   "cell_type": "code",
   "execution_count": 1,
   "id": "82b3f0e9-e12d-4a33-aed7-78234abb39be",
   "metadata": {},
   "outputs": [
    {
     "name": "stdout",
     "output_type": "stream",
     "text": [
      "1\n",
      "2\n"
     ]
    }
   ],
   "source": [
    "a = 1\n",
    "print(a)\n",
    "a = 2\n",
    "print(a)"
   ]
  },
  {
   "cell_type": "code",
   "execution_count": 2,
   "id": "b46acccb-88b2-4267-9d5a-e864602c6810",
   "metadata": {
    "tags": []
   },
   "outputs": [
    {
     "name": "stdout",
     "output_type": "stream",
     "text": [
      "1 2 24\n"
     ]
    }
   ],
   "source": [
    "a, b, z = 1, 2, 24\n",
    "print(a,b,z)"
   ]
  },
  {
   "cell_type": "code",
   "execution_count": 3,
   "id": "c859e736-a262-4672-8148-d48d00b31c52",
   "metadata": {
    "tags": []
   },
   "outputs": [
    {
     "name": "stdout",
     "output_type": "stream",
     "text": [
      "Henrique Henrique\n"
     ]
    }
   ],
   "source": [
    "a = b = \"Henrique\"\n",
    "print(a,b)"
   ]
  },
  {
   "cell_type": "code",
   "execution_count": 4,
   "id": "bb1c5174-f9f4-4fa2-b8d5-b1b217cd2141",
   "metadata": {
    "tags": []
   },
   "outputs": [
    {
     "name": "stdout",
     "output_type": "stream",
     "text": [
      "28\n",
      "Henrique\n"
     ]
    }
   ],
   "source": [
    "a = \"Henrique\"\n",
    "b = 28\n",
    "a,b = b,a\n",
    "print(a)\n",
    "print(b)"
   ]
  },
  {
   "cell_type": "code",
   "execution_count": 7,
   "id": "1d9e8a70-853b-49c6-b239-5a8164b0d361",
   "metadata": {
    "tags": []
   },
   "outputs": [
    {
     "name": "stdout",
     "output_type": "stream",
     "text": [
      "henrique\n"
     ]
    }
   ],
   "source": [
    "name = \"henrique\"\n",
    "#del name\n",
    "print(name)"
   ]
  },
  {
   "cell_type": "code",
   "execution_count": 4,
   "id": "c8ceb908-a6fe-4086-b9e8-0d0e43b64be7",
   "metadata": {
    "tags": []
   },
   "outputs": [
    {
     "name": "stdout",
     "output_type": "stream",
     "text": [
      "140727691310152\n",
      "140727691310152\n"
     ]
    }
   ],
   "source": [
    "a = 10\n",
    "print(id(10))\n",
    "print(id(a))"
   ]
  },
  {
   "cell_type": "code",
   "execution_count": 5,
   "id": "e965b1a6-c524-4467-bba9-adf2ff6e1e39",
   "metadata": {
    "tags": []
   },
   "outputs": [
    {
     "name": "stdout",
     "output_type": "stream",
     "text": [
      "140727691310152\n",
      "140727691310152\n"
     ]
    }
   ],
   "source": [
    "var1 = 10\n",
    "var2 = var1\n",
    "print(id(var1))\n",
    "print(id(var2))"
   ]
  },
  {
   "cell_type": "code",
   "execution_count": 23,
   "id": "ef0f151a-9fcb-466b-bf84-acf14b6da48f",
   "metadata": {},
   "outputs": [
    {
     "name": "stdout",
     "output_type": "stream",
     "text": [
      "100\n",
      "Henrique\n",
      "<class 'int'>\n",
      "<class 'float'>\n",
      "<class 'str'>\n",
      "5 has a type <class 'int'>\n",
      "256.5 has a type <class 'float'>\n",
      "(2+3j) has a type <class 'complex'>\n",
      "True has a type <class 'bool'>\n",
      "False has a type <class 'bool'>\n",
      "Henrique Dias has a type <class 'str'>\n",
      "[1, 2, 3, 4, 5, 6, 7, 8, 9, 0] has a type <class 'list'>\n",
      "{'Henrique': 28, 'Mara': 31, 'Thaynara': 14} has a type <class 'dict'>\n",
      "{1, 2, 3, 4, 5, 6, 7, 8, 9} has a type <class 'set'>\n"
     ]
    }
   ],
   "source": [
    "a = 100\n",
    "b = \"Henrique\"\n",
    "print(a)\n",
    "print(b)\n",
    "print(type(a)) #inteiro\n",
    "print(type(10.5)) #decimal\n",
    "print(type(name)) #texto ou string\n",
    "#definição de variaveis\n",
    "#variaveis inteiras\n",
    "x = 5\n",
    "print(x, \"has a type\", type(x))\n",
    "#variaveis decimais\n",
    "y = 256.5\n",
    "print(y, \"has a type\" , type(y))\n",
    "#variaveis complexas\n",
    "z = 2 + 3j\n",
    "print(z, \"has a type\" , type(z))\n",
    "#variveis true or false\n",
    "p = True #para true ou false usar sempre primeira letra maiúscula\n",
    "q = False\n",
    "print(p, \"has a type\" , type(p))\n",
    "print(q, \"has a type\" , type(q))\n",
    "#variaveis tipo \"String\"\n",
    "name = \"Henrique Dias\"\n",
    "print(name, \"has a type\" , type(name))\n",
    "#listas\n",
    "minha_lista = [1, 2, 3, 4, 5, 6, 7, 8, 9, 0]\n",
    "print(minha_lista, \"has a type\", type(minha_lista))\n",
    "#dicionario\n",
    "meu_dicionario = {\"Henrique\" : 28, \"Mara\" : 31, \"Thaynara\" : 14}\n",
    "print(meu_dicionario, \"has a type\", type(meu_dicionario))\n",
    "#set - coleção de valores exclusivos que não possuem ordem\n",
    "my_set = {1, 2, 3, 4, 5, 6, 7, 8, 9}\n",
    "print(my_set, \"has a type\", type(my_set))"
   ]
  },
  {
   "cell_type": "code",
   "execution_count": 9,
   "id": "b208379b-16bb-43c6-bb2b-622c91d75170",
   "metadata": {},
   "outputs": [],
   "source": [
    "#input\n",
    "name  = input(\"Digite seu nome:\")\n",
    "print(\"Nome:\", name)\n",
    "\n",
    "#entradas\n",
    "string = input(\"Digite seu nome:\")\n",
    "numero = int(input(\"Digite sua idade:\"))\n",
    "decimal = float(input(\"Digite sua altura:\"))\n"
   ]
  },
  {
   "cell_type": "code",
   "execution_count": 8,
   "id": "3f1ebbc5-ae94-423a-84f1-4917c721a377",
   "metadata": {},
   "outputs": [
    {
     "name": "stdout",
     "output_type": "stream",
     "text": [
      "-0.26237485370392877\n",
      "0.9217512697247493\n",
      "27.0\n"
     ]
    },
    {
     "name": "stdin",
     "output_type": "stream",
     "text": [
      "Digite seu nome: Henrique\n",
      "Digite sua idade: 28\n"
     ]
    },
    {
     "name": "stdout",
     "output_type": "stream",
     "text": [
      "Olá Henrique voce tem: 28 anos, daqui 10 anos voce tera: 38\n",
      "Digite um numero:\n"
     ]
    },
    {
     "name": "stdin",
     "output_type": "stream",
     "text": [
      "Base: 5\n",
      "Digite um expoente: 4\n"
     ]
    },
    {
     "name": "stdout",
     "output_type": "stream",
     "text": [
      "Resultado 625.0\n"
     ]
    }
   ],
   "source": [
    "#modulo math\n",
    "import math\n",
    "print(math.sin(50))\n",
    "print(math.cos(75))\n",
    "print(math.pow(3,3))\n",
    "\n",
    "#exercicio\n",
    "nome = input(\"Digite seu nome:\")\n",
    "idade = int(input(\"Digite sua idade:\"))\n",
    "\n",
    "print(\"Olá\", nome, \"voce tem:\", idade, \"anos, daqui 10 anos voce tera:\", idade+10)\n",
    "print(\"Vamos calcular potencia:\")\n",
    "base = int(input(\"Base:\"))\n",
    "potencia = int(input(\"Digite um expoente:\")) \n",
    "print(\"Resultado\", math.pow(base,potencia))"
   ]
  },
  {
   "cell_type": "code",
   "execution_count": null,
   "id": "dbae3e0b-c741-4db5-8f8f-19253b3e5450",
   "metadata": {},
   "outputs": [],
   "source": []
  },
  {
   "cell_type": "code",
   "execution_count": null,
   "id": "aa57a405-8b8e-4e7a-b908-c3052f486b4a",
   "metadata": {},
   "outputs": [],
   "source": []
  }
 ],
 "metadata": {
  "kernelspec": {
   "display_name": "Python 3 (ipykernel)",
   "language": "python",
   "name": "python3"
  },
  "language_info": {
   "codemirror_mode": {
    "name": "ipython",
    "version": 3
   },
   "file_extension": ".py",
   "mimetype": "text/x-python",
   "name": "python",
   "nbconvert_exporter": "python",
   "pygments_lexer": "ipython3",
   "version": "3.11.2"
  }
 },
 "nbformat": 4,
 "nbformat_minor": 5
}
